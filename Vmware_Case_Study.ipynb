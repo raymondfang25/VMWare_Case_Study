{
 "cells": [
  {
   "cell_type": "code",
   "execution_count": 1,
   "metadata": {},
   "outputs": [],
   "source": [
    "import numpy as np\n",
    "import pandas as pd\n",
    "import matplotlib.pyplot as plt\n",
    "import seaborn as sns\n",
    "%matplotlib inline\n",
    "sns.set_style('whitegrid')"
   ]
  },
  {
   "cell_type": "markdown",
   "metadata": {},
   "source": [
    "## Reading in Data & Renaming columns"
   ]
  },
  {
   "cell_type": "code",
   "execution_count": 2,
   "metadata": {},
   "outputs": [],
   "source": [
    "df_data = pd.read_excel('Case Study_Sr. Financial Analyst (3).xlsx',sheet_name='Raw Data')\n",
    "df_data['txid'] = df_data['Company'] + df_data['Quarter']\n",
    "\n",
    "df_TKG_Deals = pd.read_excel('Case Study_Sr. Financial Analyst (3).xlsx',sheet_name='TKG Deals')\n",
    "df_TKG_Deals.rename(columns={\"Customer Name\": \"Company\"}, inplace=True)\n",
    "df_TKG_Deals['txid'] = df_TKG_Deals['Company'] + df_TKG_Deals['Quarter']\n",
    "\n"
   ]
  },
  {
   "cell_type": "markdown",
   "metadata": {},
   "source": [
    "## Fixing any messy data found during data exploration"
   ]
  },
  {
   "cell_type": "code",
   "execution_count": 3,
   "metadata": {},
   "outputs": [],
   "source": [
    "df_data.set_index('Company',inplace=True)\n"
   ]
  },
  {
   "cell_type": "code",
   "execution_count": 4,
   "metadata": {},
   "outputs": [
    {
     "name": "stderr",
     "output_type": "stream",
     "text": [
      "/opt/anaconda3/lib/python3.7/site-packages/ipykernel_launcher.py:1: SettingWithCopyWarning: \n",
      "A value is trying to be set on a copy of a slice from a DataFrame\n",
      "\n",
      "See the caveats in the documentation: https://pandas.pydata.org/pandas-docs/stable/user_guide/indexing.html#returning-a-view-versus-a-copy\n",
      "  \"\"\"Entry point for launching an IPython kernel.\n",
      "/opt/anaconda3/lib/python3.7/site-packages/ipykernel_launcher.py:2: SettingWithCopyWarning: \n",
      "A value is trying to be set on a copy of a slice from a DataFrame\n",
      "\n",
      "See the caveats in the documentation: https://pandas.pydata.org/pandas-docs/stable/user_guide/indexing.html#returning-a-view-versus-a-copy\n",
      "  \n",
      "/opt/anaconda3/lib/python3.7/site-packages/ipykernel_launcher.py:4: SettingWithCopyWarning: \n",
      "A value is trying to be set on a copy of a slice from a DataFrame\n",
      "\n",
      "See the caveats in the documentation: https://pandas.pydata.org/pandas-docs/stable/user_guide/indexing.html#returning-a-view-versus-a-copy\n",
      "  after removing the cwd from sys.path.\n",
      "/opt/anaconda3/lib/python3.7/site-packages/ipykernel_launcher.py:6: SettingWithCopyWarning: \n",
      "A value is trying to be set on a copy of a slice from a DataFrame\n",
      "\n",
      "See the caveats in the documentation: https://pandas.pydata.org/pandas-docs/stable/user_guide/indexing.html#returning-a-view-versus-a-copy\n",
      "  \n"
     ]
    }
   ],
   "source": [
    "df_data['Data']['Terex Corp'] = df_data['Data']['Terex Corp'].apply(lambda x: 1086024 if x > 0 else 0)\n",
    "df_data['TAS']['Terex Corp'] = df_data['TAS']['Terex Corp'].apply(lambda x: 2704151 if x > 0 else 0)\n",
    "\n",
    "df_data['Data']['Texas Industries Inc.'] = df_data['Data']['Terex Corp'].apply(lambda x: 18514 if x > 0 else 0)\n",
    "\n",
    "df_data['TAS']['First National of Nebraska Inc.'] = df_data['TAS']['First National of Nebraska Inc.'].apply(lambda x: 5504298 if x > 0 else 0)\n"
   ]
  },
  {
   "cell_type": "code",
   "execution_count": 5,
   "metadata": {},
   "outputs": [],
   "source": [
    "df_data.reset_index(inplace=True)\n",
    "df_data.drop(241, inplace=True)\n",
    "df_data.drop(243, inplace=True)\n",
    "df_data.drop(249, inplace=True)"
   ]
  },
  {
   "cell_type": "code",
   "execution_count": 6,
   "metadata": {},
   "outputs": [
    {
     "name": "stderr",
     "output_type": "stream",
     "text": [
      "/opt/anaconda3/lib/python3.7/site-packages/ipykernel_launcher.py:2: SettingWithCopyWarning: \n",
      "A value is trying to be set on a copy of a slice from a DataFrame\n",
      "\n",
      "See the caveats in the documentation: https://pandas.pydata.org/pandas-docs/stable/user_guide/indexing.html#returning-a-view-versus-a-copy\n",
      "  \n",
      "/opt/anaconda3/lib/python3.7/site-packages/ipykernel_launcher.py:3: SettingWithCopyWarning: \n",
      "A value is trying to be set on a copy of a slice from a DataFrame\n",
      "\n",
      "See the caveats in the documentation: https://pandas.pydata.org/pandas-docs/stable/user_guide/indexing.html#returning-a-view-versus-a-copy\n",
      "  This is separate from the ipykernel package so we can avoid doing imports until\n",
      "/opt/anaconda3/lib/python3.7/site-packages/ipykernel_launcher.py:4: SettingWithCopyWarning: \n",
      "A value is trying to be set on a copy of a slice from a DataFrame\n",
      "\n",
      "See the caveats in the documentation: https://pandas.pydata.org/pandas-docs/stable/user_guide/indexing.html#returning-a-view-versus-a-copy\n",
      "  after removing the cwd from sys.path.\n"
     ]
    }
   ],
   "source": [
    "df_TKG_Deals.set_index('Company', inplace=True)\n",
    "df_TKG_Deals['ACV']['Winn Dixie Stores Inc'] = df_TKG_Deals['ACV']['Winn Dixie Stores Inc'].apply(lambda x: 2356196 if x > 0 else 0)\n",
    "df_TKG_Deals['TCV']['Winn Dixie Stores Inc'] = df_TKG_Deals['TCV']['Winn Dixie Stores Inc'].apply(lambda x: 1925968 if x > 0 else 0)\n",
    "df_TKG_Deals['Quarter']['Park Place Entertainment Corp'] = '2020-Q3'\n",
    "df_TKG_Deals.reset_index(inplace=True)\n",
    "df_TKG_Deals.drop(46, inplace=True)"
   ]
  },
  {
   "cell_type": "markdown",
   "metadata": {},
   "source": [
    "## Adjusting TKG values for values captured in TAS"
   ]
  },
  {
   "cell_type": "code",
   "execution_count": 7,
   "metadata": {},
   "outputs": [],
   "source": [
    "def final_acv(cols):\n",
    "    acv = cols[0]\n",
    "    tas = cols[1]\n",
    "    \n",
    "    if tas > 0:\n",
    "        if tas > acv:\n",
    "            return 0\n",
    "        else:\n",
    "            return acv - tas\n",
    "    else:\n",
    "        return acv"
   ]
  },
  {
   "cell_type": "markdown",
   "metadata": {},
   "source": [
    "## Merging both Data Frames together for Final Data"
   ]
  },
  {
   "cell_type": "code",
   "execution_count": 8,
   "metadata": {},
   "outputs": [],
   "source": [
    "df_final = pd.merge(df_TKG_Deals,df_data, how='outer')\n",
    "df_final['TKG_acv'] =  df_final[['ACV','TAS']].apply(final_acv, axis=1)\n"
   ]
  },
  {
   "cell_type": "markdown",
   "metadata": {},
   "source": [
    "## Analysis will include only Positive ACV values. Negatives will be considered a refund"
   ]
  },
  {
   "cell_type": "code",
   "execution_count": 9,
   "metadata": {},
   "outputs": [],
   "source": [
    "df_final['TKG_acv'] = df_final['TKG_acv'].apply(lambda x: x if x>0 else 0)\n",
    "df_final['Data'] = df_final['Data'].apply(lambda x: x if x>0 else 0)\n",
    "df_final['TAS'] = df_final['TAS'].apply(lambda x: x if x>0 else 0)\n",
    "df_final['TCV'] = df_final['TCV'].apply(lambda x: x if x>0 else 0)\n",
    "df_final['ACV'] = df_final['ACV'].apply(lambda x: x if x>0 else 0)"
   ]
  },
  {
   "cell_type": "markdown",
   "metadata": {},
   "source": [
    "## Housekeeping. Renaming columns to avoid confusion"
   ]
  },
  {
   "cell_type": "code",
   "execution_count": 10,
   "metadata": {},
   "outputs": [],
   "source": [
    "df_final['Data_acv'] = df_final['Data']\n",
    "df_final['TAS_acv'] = df_final['TAS']\n",
    "df_final.drop(['ACV', 'Data', 'TCV', 'TAS'], axis=1, inplace=True)"
   ]
  },
  {
   "cell_type": "markdown",
   "metadata": {},
   "source": [
    "## Adding count identifier. Will only count if ACV > 0"
   ]
  },
  {
   "cell_type": "code",
   "execution_count": 11,
   "metadata": {},
   "outputs": [],
   "source": [
    "df_final['TKG_count'] = df_final['TKG_acv'].apply(lambda x: 1 if x > 0 else 0)\n",
    "df_final['Data_count'] = df_final['Data_acv'].apply(lambda x: 1 if x > 0 else 0)\n",
    "df_final['TAS_count'] = df_final['TAS_acv'].apply(lambda x: 1 if x > 0 else 0)"
   ]
  },
  {
   "cell_type": "code",
   "execution_count": null,
   "metadata": {},
   "outputs": [],
   "source": []
  },
  {
   "cell_type": "markdown",
   "metadata": {},
   "source": [
    "# Quarterly Summary by Sum"
   ]
  },
  {
   "cell_type": "code",
   "execution_count": 12,
   "metadata": {},
   "outputs": [
    {
     "data": {
      "text/html": [
       "<div>\n",
       "<style scoped>\n",
       "    .dataframe tbody tr th:only-of-type {\n",
       "        vertical-align: middle;\n",
       "    }\n",
       "\n",
       "    .dataframe tbody tr th {\n",
       "        vertical-align: top;\n",
       "    }\n",
       "\n",
       "    .dataframe thead th {\n",
       "        text-align: right;\n",
       "    }\n",
       "</style>\n",
       "<table border=\"1\" class=\"dataframe\">\n",
       "  <thead>\n",
       "    <tr style=\"text-align: right;\">\n",
       "      <th></th>\n",
       "      <th>Quarter</th>\n",
       "      <th>TKG_acv</th>\n",
       "      <th>Data_acv</th>\n",
       "      <th>TAS_acv</th>\n",
       "      <th>TKG_count</th>\n",
       "      <th>Data_count</th>\n",
       "      <th>TAS_count</th>\n",
       "      <th>Total_acv</th>\n",
       "      <th>Total_count</th>\n",
       "    </tr>\n",
       "  </thead>\n",
       "  <tbody>\n",
       "    <tr>\n",
       "      <th>0</th>\n",
       "      <td>2018-Q4</td>\n",
       "      <td>1867861.0</td>\n",
       "      <td>0.0</td>\n",
       "      <td>102121.0</td>\n",
       "      <td>7</td>\n",
       "      <td>0</td>\n",
       "      <td>1</td>\n",
       "      <td>1969982.0</td>\n",
       "      <td>8</td>\n",
       "    </tr>\n",
       "    <tr>\n",
       "      <th>1</th>\n",
       "      <td>2019-Q1</td>\n",
       "      <td>9821570.0</td>\n",
       "      <td>0.0</td>\n",
       "      <td>1792509.0</td>\n",
       "      <td>13</td>\n",
       "      <td>0</td>\n",
       "      <td>3</td>\n",
       "      <td>11614079.0</td>\n",
       "      <td>16</td>\n",
       "    </tr>\n",
       "    <tr>\n",
       "      <th>2</th>\n",
       "      <td>2019-Q2</td>\n",
       "      <td>8887773.0</td>\n",
       "      <td>1569605.0</td>\n",
       "      <td>1609537.0</td>\n",
       "      <td>8</td>\n",
       "      <td>10</td>\n",
       "      <td>4</td>\n",
       "      <td>12066915.0</td>\n",
       "      <td>22</td>\n",
       "    </tr>\n",
       "    <tr>\n",
       "      <th>3</th>\n",
       "      <td>2019-Q3</td>\n",
       "      <td>7092220.0</td>\n",
       "      <td>2901355.0</td>\n",
       "      <td>14345886.0</td>\n",
       "      <td>7</td>\n",
       "      <td>10</td>\n",
       "      <td>10</td>\n",
       "      <td>24339461.0</td>\n",
       "      <td>27</td>\n",
       "    </tr>\n",
       "    <tr>\n",
       "      <th>4</th>\n",
       "      <td>2019-Q4</td>\n",
       "      <td>6638363.0</td>\n",
       "      <td>1071360.0</td>\n",
       "      <td>5193399.0</td>\n",
       "      <td>7</td>\n",
       "      <td>12</td>\n",
       "      <td>9</td>\n",
       "      <td>12903122.0</td>\n",
       "      <td>28</td>\n",
       "    </tr>\n",
       "    <tr>\n",
       "      <th>5</th>\n",
       "      <td>2020-Q1</td>\n",
       "      <td>10865854.0</td>\n",
       "      <td>4243508.0</td>\n",
       "      <td>975197.0</td>\n",
       "      <td>9</td>\n",
       "      <td>18</td>\n",
       "      <td>6</td>\n",
       "      <td>16084559.0</td>\n",
       "      <td>33</td>\n",
       "    </tr>\n",
       "    <tr>\n",
       "      <th>6</th>\n",
       "      <td>2020-Q2</td>\n",
       "      <td>4980841.0</td>\n",
       "      <td>5175071.0</td>\n",
       "      <td>30635683.0</td>\n",
       "      <td>6</td>\n",
       "      <td>13</td>\n",
       "      <td>19</td>\n",
       "      <td>40791595.0</td>\n",
       "      <td>38</td>\n",
       "    </tr>\n",
       "    <tr>\n",
       "      <th>7</th>\n",
       "      <td>2020-Q3</td>\n",
       "      <td>5232708.0</td>\n",
       "      <td>4324874.0</td>\n",
       "      <td>12960137.0</td>\n",
       "      <td>7</td>\n",
       "      <td>15</td>\n",
       "      <td>16</td>\n",
       "      <td>22517719.0</td>\n",
       "      <td>38</td>\n",
       "    </tr>\n",
       "    <tr>\n",
       "      <th>8</th>\n",
       "      <td>2020-Q4</td>\n",
       "      <td>4635823.0</td>\n",
       "      <td>10343342.0</td>\n",
       "      <td>37005381.0</td>\n",
       "      <td>4</td>\n",
       "      <td>20</td>\n",
       "      <td>38</td>\n",
       "      <td>51984546.0</td>\n",
       "      <td>62</td>\n",
       "    </tr>\n",
       "    <tr>\n",
       "      <th>9</th>\n",
       "      <td>2021-Q1</td>\n",
       "      <td>4493513.0</td>\n",
       "      <td>8347376.0</td>\n",
       "      <td>24800695.0</td>\n",
       "      <td>8</td>\n",
       "      <td>29</td>\n",
       "      <td>23</td>\n",
       "      <td>37641584.0</td>\n",
       "      <td>60</td>\n",
       "    </tr>\n",
       "  </tbody>\n",
       "</table>\n",
       "</div>"
      ],
      "text/plain": [
       "   Quarter     TKG_acv    Data_acv     TAS_acv  TKG_count  Data_count  \\\n",
       "0  2018-Q4   1867861.0         0.0    102121.0          7           0   \n",
       "1  2019-Q1   9821570.0         0.0   1792509.0         13           0   \n",
       "2  2019-Q2   8887773.0   1569605.0   1609537.0          8          10   \n",
       "3  2019-Q3   7092220.0   2901355.0  14345886.0          7          10   \n",
       "4  2019-Q4   6638363.0   1071360.0   5193399.0          7          12   \n",
       "5  2020-Q1  10865854.0   4243508.0    975197.0          9          18   \n",
       "6  2020-Q2   4980841.0   5175071.0  30635683.0          6          13   \n",
       "7  2020-Q3   5232708.0   4324874.0  12960137.0          7          15   \n",
       "8  2020-Q4   4635823.0  10343342.0  37005381.0          4          20   \n",
       "9  2021-Q1   4493513.0   8347376.0  24800695.0          8          29   \n",
       "\n",
       "   TAS_count   Total_acv  Total_count  \n",
       "0          1   1969982.0            8  \n",
       "1          3  11614079.0           16  \n",
       "2          4  12066915.0           22  \n",
       "3         10  24339461.0           27  \n",
       "4          9  12903122.0           28  \n",
       "5          6  16084559.0           33  \n",
       "6         19  40791595.0           38  \n",
       "7         16  22517719.0           38  \n",
       "8         38  51984546.0           62  \n",
       "9         23  37641584.0           60  "
      ]
     },
     "execution_count": 12,
     "metadata": {},
     "output_type": "execute_result"
    }
   ],
   "source": [
    "df_quarter_summary_sum = df_final.groupby('Quarter').sum().round(2)\n",
    "df_quarter_summary_sum.reset_index(inplace=True)\n",
    "df_quarter_summary_sum['Total_acv'] = df_quarter_summary_sum['TKG_acv'] + df_quarter_summary_sum['Data_acv'] + df_quarter_summary_sum['TAS_acv']\n",
    "df_quarter_summary_sum['Total_count'] = df_quarter_summary_sum['TKG_count'] + df_quarter_summary_sum['Data_count'] + df_quarter_summary_sum['TAS_count']\n",
    "df_quarter_summary_sum"
   ]
  },
  {
   "cell_type": "markdown",
   "metadata": {},
   "source": [
    "## Quarterly Summary by Count only"
   ]
  },
  {
   "cell_type": "code",
   "execution_count": 13,
   "metadata": {},
   "outputs": [
    {
     "data": {
      "text/html": [
       "<div>\n",
       "<style scoped>\n",
       "    .dataframe tbody tr th:only-of-type {\n",
       "        vertical-align: middle;\n",
       "    }\n",
       "\n",
       "    .dataframe tbody tr th {\n",
       "        vertical-align: top;\n",
       "    }\n",
       "\n",
       "    .dataframe thead th {\n",
       "        text-align: right;\n",
       "    }\n",
       "</style>\n",
       "<table border=\"1\" class=\"dataframe\">\n",
       "  <thead>\n",
       "    <tr style=\"text-align: right;\">\n",
       "      <th></th>\n",
       "      <th>Quarter</th>\n",
       "      <th>TKG_count</th>\n",
       "      <th>Data_count</th>\n",
       "      <th>TAS_count</th>\n",
       "      <th>Total_count</th>\n",
       "    </tr>\n",
       "  </thead>\n",
       "  <tbody>\n",
       "    <tr>\n",
       "      <th>0</th>\n",
       "      <td>2018-Q4</td>\n",
       "      <td>7</td>\n",
       "      <td>0</td>\n",
       "      <td>1</td>\n",
       "      <td>8</td>\n",
       "    </tr>\n",
       "    <tr>\n",
       "      <th>1</th>\n",
       "      <td>2019-Q1</td>\n",
       "      <td>13</td>\n",
       "      <td>0</td>\n",
       "      <td>3</td>\n",
       "      <td>16</td>\n",
       "    </tr>\n",
       "    <tr>\n",
       "      <th>2</th>\n",
       "      <td>2019-Q2</td>\n",
       "      <td>8</td>\n",
       "      <td>10</td>\n",
       "      <td>4</td>\n",
       "      <td>22</td>\n",
       "    </tr>\n",
       "    <tr>\n",
       "      <th>3</th>\n",
       "      <td>2019-Q3</td>\n",
       "      <td>7</td>\n",
       "      <td>10</td>\n",
       "      <td>10</td>\n",
       "      <td>27</td>\n",
       "    </tr>\n",
       "    <tr>\n",
       "      <th>4</th>\n",
       "      <td>2019-Q4</td>\n",
       "      <td>7</td>\n",
       "      <td>12</td>\n",
       "      <td>9</td>\n",
       "      <td>28</td>\n",
       "    </tr>\n",
       "    <tr>\n",
       "      <th>5</th>\n",
       "      <td>2020-Q1</td>\n",
       "      <td>9</td>\n",
       "      <td>18</td>\n",
       "      <td>6</td>\n",
       "      <td>33</td>\n",
       "    </tr>\n",
       "    <tr>\n",
       "      <th>6</th>\n",
       "      <td>2020-Q2</td>\n",
       "      <td>6</td>\n",
       "      <td>13</td>\n",
       "      <td>19</td>\n",
       "      <td>38</td>\n",
       "    </tr>\n",
       "    <tr>\n",
       "      <th>7</th>\n",
       "      <td>2020-Q3</td>\n",
       "      <td>7</td>\n",
       "      <td>15</td>\n",
       "      <td>16</td>\n",
       "      <td>38</td>\n",
       "    </tr>\n",
       "    <tr>\n",
       "      <th>8</th>\n",
       "      <td>2020-Q4</td>\n",
       "      <td>4</td>\n",
       "      <td>20</td>\n",
       "      <td>38</td>\n",
       "      <td>62</td>\n",
       "    </tr>\n",
       "    <tr>\n",
       "      <th>9</th>\n",
       "      <td>2021-Q1</td>\n",
       "      <td>8</td>\n",
       "      <td>29</td>\n",
       "      <td>23</td>\n",
       "      <td>60</td>\n",
       "    </tr>\n",
       "  </tbody>\n",
       "</table>\n",
       "</div>"
      ],
      "text/plain": [
       "   Quarter  TKG_count  Data_count  TAS_count  Total_count\n",
       "0  2018-Q4          7           0          1            8\n",
       "1  2019-Q1         13           0          3           16\n",
       "2  2019-Q2          8          10          4           22\n",
       "3  2019-Q3          7          10         10           27\n",
       "4  2019-Q4          7          12          9           28\n",
       "5  2020-Q1          9          18          6           33\n",
       "6  2020-Q2          6          13         19           38\n",
       "7  2020-Q3          7          15         16           38\n",
       "8  2020-Q4          4          20         38           62\n",
       "9  2021-Q1          8          29         23           60"
      ]
     },
     "execution_count": 13,
     "metadata": {},
     "output_type": "execute_result"
    }
   ],
   "source": [
    "df_quarter_count_sum = df_quarter_summary_sum.drop(['TKG_acv', 'Data_acv','TAS_acv','Total_acv'], axis=1)\n",
    "df_quarter_count_sum\n",
    "df_quarter_count_sum"
   ]
  },
  {
   "cell_type": "markdown",
   "metadata": {},
   "source": [
    "## Quarterly Summary by ACV only"
   ]
  },
  {
   "cell_type": "code",
   "execution_count": 14,
   "metadata": {},
   "outputs": [
    {
     "data": {
      "text/html": [
       "<div>\n",
       "<style scoped>\n",
       "    .dataframe tbody tr th:only-of-type {\n",
       "        vertical-align: middle;\n",
       "    }\n",
       "\n",
       "    .dataframe tbody tr th {\n",
       "        vertical-align: top;\n",
       "    }\n",
       "\n",
       "    .dataframe thead th {\n",
       "        text-align: right;\n",
       "    }\n",
       "</style>\n",
       "<table border=\"1\" class=\"dataframe\">\n",
       "  <thead>\n",
       "    <tr style=\"text-align: right;\">\n",
       "      <th></th>\n",
       "      <th>Quarter</th>\n",
       "      <th>TKG_acv</th>\n",
       "      <th>Data_acv</th>\n",
       "      <th>TAS_acv</th>\n",
       "      <th>Total_acv</th>\n",
       "    </tr>\n",
       "  </thead>\n",
       "  <tbody>\n",
       "    <tr>\n",
       "      <th>0</th>\n",
       "      <td>2018-Q4</td>\n",
       "      <td>1867861.0</td>\n",
       "      <td>0.0</td>\n",
       "      <td>102121.0</td>\n",
       "      <td>1969982.0</td>\n",
       "    </tr>\n",
       "    <tr>\n",
       "      <th>1</th>\n",
       "      <td>2019-Q1</td>\n",
       "      <td>9821570.0</td>\n",
       "      <td>0.0</td>\n",
       "      <td>1792509.0</td>\n",
       "      <td>11614079.0</td>\n",
       "    </tr>\n",
       "    <tr>\n",
       "      <th>2</th>\n",
       "      <td>2019-Q2</td>\n",
       "      <td>8887773.0</td>\n",
       "      <td>1569605.0</td>\n",
       "      <td>1609537.0</td>\n",
       "      <td>12066915.0</td>\n",
       "    </tr>\n",
       "    <tr>\n",
       "      <th>3</th>\n",
       "      <td>2019-Q3</td>\n",
       "      <td>7092220.0</td>\n",
       "      <td>2901355.0</td>\n",
       "      <td>14345886.0</td>\n",
       "      <td>24339461.0</td>\n",
       "    </tr>\n",
       "    <tr>\n",
       "      <th>4</th>\n",
       "      <td>2019-Q4</td>\n",
       "      <td>6638363.0</td>\n",
       "      <td>1071360.0</td>\n",
       "      <td>5193399.0</td>\n",
       "      <td>12903122.0</td>\n",
       "    </tr>\n",
       "    <tr>\n",
       "      <th>5</th>\n",
       "      <td>2020-Q1</td>\n",
       "      <td>10865854.0</td>\n",
       "      <td>4243508.0</td>\n",
       "      <td>975197.0</td>\n",
       "      <td>16084559.0</td>\n",
       "    </tr>\n",
       "    <tr>\n",
       "      <th>6</th>\n",
       "      <td>2020-Q2</td>\n",
       "      <td>4980841.0</td>\n",
       "      <td>5175071.0</td>\n",
       "      <td>30635683.0</td>\n",
       "      <td>40791595.0</td>\n",
       "    </tr>\n",
       "    <tr>\n",
       "      <th>7</th>\n",
       "      <td>2020-Q3</td>\n",
       "      <td>5232708.0</td>\n",
       "      <td>4324874.0</td>\n",
       "      <td>12960137.0</td>\n",
       "      <td>22517719.0</td>\n",
       "    </tr>\n",
       "    <tr>\n",
       "      <th>8</th>\n",
       "      <td>2020-Q4</td>\n",
       "      <td>4635823.0</td>\n",
       "      <td>10343342.0</td>\n",
       "      <td>37005381.0</td>\n",
       "      <td>51984546.0</td>\n",
       "    </tr>\n",
       "    <tr>\n",
       "      <th>9</th>\n",
       "      <td>2021-Q1</td>\n",
       "      <td>4493513.0</td>\n",
       "      <td>8347376.0</td>\n",
       "      <td>24800695.0</td>\n",
       "      <td>37641584.0</td>\n",
       "    </tr>\n",
       "  </tbody>\n",
       "</table>\n",
       "</div>"
      ],
      "text/plain": [
       "   Quarter     TKG_acv    Data_acv     TAS_acv   Total_acv\n",
       "0  2018-Q4   1867861.0         0.0    102121.0   1969982.0\n",
       "1  2019-Q1   9821570.0         0.0   1792509.0  11614079.0\n",
       "2  2019-Q2   8887773.0   1569605.0   1609537.0  12066915.0\n",
       "3  2019-Q3   7092220.0   2901355.0  14345886.0  24339461.0\n",
       "4  2019-Q4   6638363.0   1071360.0   5193399.0  12903122.0\n",
       "5  2020-Q1  10865854.0   4243508.0    975197.0  16084559.0\n",
       "6  2020-Q2   4980841.0   5175071.0  30635683.0  40791595.0\n",
       "7  2020-Q3   5232708.0   4324874.0  12960137.0  22517719.0\n",
       "8  2020-Q4   4635823.0  10343342.0  37005381.0  51984546.0\n",
       "9  2021-Q1   4493513.0   8347376.0  24800695.0  37641584.0"
      ]
     },
     "execution_count": 14,
     "metadata": {},
     "output_type": "execute_result"
    }
   ],
   "source": [
    "df_quarter_acv_sum = df_quarter_summary_sum.drop(['TKG_count', 'Data_count','TAS_count', 'Total_count'], axis=1)\n",
    "df_quarter_acv_sum"
   ]
  },
  {
   "cell_type": "markdown",
   "metadata": {},
   "source": [
    "\n",
    "# -------------------------------------------------------------\n"
   ]
  },
  {
   "cell_type": "markdown",
   "metadata": {},
   "source": [
    "# Question 1A:\n",
    "\n",
    "# Chart of Total and Products by Count"
   ]
  },
  {
   "cell_type": "code",
   "execution_count": 15,
   "metadata": {},
   "outputs": [
    {
     "data": {
      "text/plain": [
       "<matplotlib.legend.Legend at 0x11d47b310>"
      ]
     },
     "execution_count": 15,
     "metadata": {},
     "output_type": "execute_result"
    },
    {
     "data": {
      "text/plain": [
       "<Figure size 864x576 with 0 Axes>"
      ]
     },
     "metadata": {},
     "output_type": "display_data"
    },
    {
     "data": {
      "image/png": "[encoded data removed]",
      "text/plain": [
       "<Figure size 864x576 with 1 Axes>"
      ]
     },
     "metadata": {},
     "output_type": "display_data"
    }
   ],
   "source": [
    "\n",
    "plt.figure(figsize=(12,8))\n",
    "\n",
    "quarter = list(df_quarter_summary_sum['Quarter'])\n",
    "TKG_count = list(df_quarter_summary_sum['TKG_count'])\n",
    "Data_count = list(df_quarter_summary_sum['Data_count'])\n",
    "TAS_count = list(df_quarter_summary_sum['TAS_count'])\n",
    "\n",
    "TKG = pd.Series(TKG_count, index=quarter)\n",
    "Data = pd.Series(Data_count, index=quarter)\n",
    "TAS = pd.Series(TAS_count, index=quarter)\n",
    "\n",
    "df = pd.DataFrame({\"TKG\":TKG,\"Data\":Data, \"TAS\":TAS})\n",
    "ax = df.plot.bar(color=['navy','green'], figsize=(12,8))\n",
    "ax.set_xlabel(\"Quarter\")\n",
    "ax.set_ylabel(\"Count\")\n",
    "ax.set_title('Count per grouping')\n",
    "\n",
    "plt.legend(bbox_to_anchor=(1.05, 1), loc=2, borderaxespad=0.)"
   ]
  },
  {
   "cell_type": "code",
   "execution_count": 16,
   "metadata": {},
   "outputs": [
    {
     "data": {
      "text/plain": [
       "<matplotlib.axes._subplots.AxesSubplot at 0x1a207f6250>"
      ]
     },
     "execution_count": 16,
     "metadata": {},
     "output_type": "execute_result"
    },
    {
     "data": {
      "image/png": "[encoded data removed]",
      "text/plain": [
       "<Figure size 864x576 with 1 Axes>"
      ]
     },
     "metadata": {},
     "output_type": "display_data"
    }
   ],
   "source": [
    "plt.figure(figsize=(12,8))\n",
    "\n",
    "sns.barplot(x='Quarter', y='Total_count', data=df_quarter_summary_sum, color='green')"
   ]
  },
  {
   "cell_type": "code",
   "execution_count": null,
   "metadata": {},
   "outputs": [],
   "source": []
  },
  {
   "cell_type": "markdown",
   "metadata": {},
   "source": [
    "# Quarterly Summary by Average"
   ]
  },
  {
   "cell_type": "code",
   "execution_count": 17,
   "metadata": {},
   "outputs": [],
   "source": [
    "df_quarter_summary_mean = df_quarter_summary_sum\n",
    "df_quarter_summary_mean['TKG_acv_mean'] = (df_quarter_summary_mean['TKG_acv']/df_quarter_summary_mean['TKG_count']).round(2)\n",
    "df_quarter_summary_mean['Data_acv_mean'] = (df_quarter_summary_mean['Data_acv']/df_quarter_summary_mean['Data_count']).round(2)\n",
    "df_quarter_summary_mean['TAS_acv_mean'] = (df_quarter_summary_mean['TAS_acv']/df_quarter_summary_mean['TAS_count']).round(2)\n",
    "df_quarter_summary_mean['Total_acv_mean'] = (df_quarter_summary_mean['Total_acv']/df_quarter_summary_mean['Total_count']).round(2)\n",
    "\n",
    "df_quarter_summary_mean = df_quarter_summary_mean[['Quarter','TKG_acv_mean',\n",
    "       'Data_acv_mean', 'TAS_acv_mean', 'Total_acv_mean']]\n"
   ]
  },
  {
   "cell_type": "code",
   "execution_count": 18,
   "metadata": {},
   "outputs": [
    {
     "data": {
      "text/html": [
       "<div>\n",
       "<style scoped>\n",
       "    .dataframe tbody tr th:only-of-type {\n",
       "        vertical-align: middle;\n",
       "    }\n",
       "\n",
       "    .dataframe tbody tr th {\n",
       "        vertical-align: top;\n",
       "    }\n",
       "\n",
       "    .dataframe thead th {\n",
       "        text-align: right;\n",
       "    }\n",
       "</style>\n",
       "<table border=\"1\" class=\"dataframe\">\n",
       "  <thead>\n",
       "    <tr style=\"text-align: right;\">\n",
       "      <th></th>\n",
       "      <th>Quarter</th>\n",
       "      <th>TKG_acv_mean</th>\n",
       "      <th>Data_acv_mean</th>\n",
       "      <th>TAS_acv_mean</th>\n",
       "      <th>Total_acv_mean</th>\n",
       "    </tr>\n",
       "  </thead>\n",
       "  <tbody>\n",
       "    <tr>\n",
       "      <th>0</th>\n",
       "      <td>2018-Q4</td>\n",
       "      <td>266837.29</td>\n",
       "      <td>NaN</td>\n",
       "      <td>102121.00</td>\n",
       "      <td>246247.75</td>\n",
       "    </tr>\n",
       "    <tr>\n",
       "      <th>1</th>\n",
       "      <td>2019-Q1</td>\n",
       "      <td>755505.38</td>\n",
       "      <td>NaN</td>\n",
       "      <td>597503.00</td>\n",
       "      <td>725879.94</td>\n",
       "    </tr>\n",
       "    <tr>\n",
       "      <th>2</th>\n",
       "      <td>2019-Q2</td>\n",
       "      <td>1110971.62</td>\n",
       "      <td>156960.50</td>\n",
       "      <td>402384.25</td>\n",
       "      <td>548496.14</td>\n",
       "    </tr>\n",
       "    <tr>\n",
       "      <th>3</th>\n",
       "      <td>2019-Q3</td>\n",
       "      <td>1013174.29</td>\n",
       "      <td>290135.50</td>\n",
       "      <td>1434588.60</td>\n",
       "      <td>901461.52</td>\n",
       "    </tr>\n",
       "    <tr>\n",
       "      <th>4</th>\n",
       "      <td>2019-Q4</td>\n",
       "      <td>948337.57</td>\n",
       "      <td>89280.00</td>\n",
       "      <td>577044.33</td>\n",
       "      <td>460825.79</td>\n",
       "    </tr>\n",
       "    <tr>\n",
       "      <th>5</th>\n",
       "      <td>2020-Q1</td>\n",
       "      <td>1207317.11</td>\n",
       "      <td>235750.44</td>\n",
       "      <td>162532.83</td>\n",
       "      <td>487410.88</td>\n",
       "    </tr>\n",
       "    <tr>\n",
       "      <th>6</th>\n",
       "      <td>2020-Q2</td>\n",
       "      <td>830140.17</td>\n",
       "      <td>398082.38</td>\n",
       "      <td>1612404.37</td>\n",
       "      <td>1073463.03</td>\n",
       "    </tr>\n",
       "    <tr>\n",
       "      <th>7</th>\n",
       "      <td>2020-Q3</td>\n",
       "      <td>747529.71</td>\n",
       "      <td>288324.93</td>\n",
       "      <td>810008.56</td>\n",
       "      <td>592571.55</td>\n",
       "    </tr>\n",
       "    <tr>\n",
       "      <th>8</th>\n",
       "      <td>2020-Q4</td>\n",
       "      <td>1158955.75</td>\n",
       "      <td>517167.10</td>\n",
       "      <td>973825.82</td>\n",
       "      <td>838460.42</td>\n",
       "    </tr>\n",
       "    <tr>\n",
       "      <th>9</th>\n",
       "      <td>2021-Q1</td>\n",
       "      <td>561689.12</td>\n",
       "      <td>287840.55</td>\n",
       "      <td>1078291.09</td>\n",
       "      <td>627359.73</td>\n",
       "    </tr>\n",
       "  </tbody>\n",
       "</table>\n",
       "</div>"
      ],
      "text/plain": [
       "   Quarter  TKG_acv_mean  Data_acv_mean  TAS_acv_mean  Total_acv_mean\n",
       "0  2018-Q4     266837.29            NaN     102121.00       246247.75\n",
       "1  2019-Q1     755505.38            NaN     597503.00       725879.94\n",
       "2  2019-Q2    1110971.62      156960.50     402384.25       548496.14\n",
       "3  2019-Q3    1013174.29      290135.50    1434588.60       901461.52\n",
       "4  2019-Q4     948337.57       89280.00     577044.33       460825.79\n",
       "5  2020-Q1    1207317.11      235750.44     162532.83       487410.88\n",
       "6  2020-Q2     830140.17      398082.38    1612404.37      1073463.03\n",
       "7  2020-Q3     747529.71      288324.93     810008.56       592571.55\n",
       "8  2020-Q4    1158955.75      517167.10     973825.82       838460.42\n",
       "9  2021-Q1     561689.12      287840.55    1078291.09       627359.73"
      ]
     },
     "execution_count": 18,
     "metadata": {},
     "output_type": "execute_result"
    }
   ],
   "source": [
    "df_quarter_summary_mean"
   ]
  },
  {
   "cell_type": "code",
   "execution_count": 19,
   "metadata": {},
   "outputs": [
    {
     "data": {
      "text/plain": [
       "<matplotlib.legend.Legend at 0x1a207b4410>"
      ]
     },
     "execution_count": 19,
     "metadata": {},
     "output_type": "execute_result"
    },
    {
     "data": {
      "text/plain": [
       "<Figure size 864x576 with 0 Axes>"
      ]
     },
     "metadata": {},
     "output_type": "display_data"
    },
    {
     "data": {
      "image/png": "[encoded data removed]",
      "text/plain": [
       "<Figure size 864x576 with 1 Axes>"
      ]
     },
     "metadata": {},
     "output_type": "display_data"
    }
   ],
   "source": [
    "plt.figure(figsize=(12,8))\n",
    "\n",
    "quarter = list(df_quarter_summary_mean['Quarter'])\n",
    "TKG_acv = list(df_quarter_summary_mean['TKG_acv_mean'])\n",
    "Data_acv = list(df_quarter_summary_mean['Data_acv_mean'])\n",
    "TAS_acv = list(df_quarter_summary_mean['TAS_acv_mean'])\n",
    "\n",
    "TKG = pd.Series(TKG_acv, index=quarter)\n",
    "Data = pd.Series(Data_acv, index=quarter)\n",
    "TAS = pd.Series(TAS_acv, index=quarter)\n",
    "\n",
    "df = pd.DataFrame({\"TKG\":TKG,\"Data\":Data, \"TAS\":TAS})\n",
    "ax = df.plot.bar(color=['navy','green'], figsize=(12,8))\n",
    "ax.set_xlabel(\"Quarter\")\n",
    "ax.set_ylabel(\"ACV Value\")\n",
    "ax.set_title('ACV per Grouping')\n",
    "\n",
    "plt.legend(bbox_to_anchor=(1.05, 1), loc=2, borderaxespad=0.)"
   ]
  },
  {
   "cell_type": "code",
   "execution_count": 20,
   "metadata": {},
   "outputs": [
    {
     "data": {
      "text/plain": [
       "<matplotlib.axes._subplots.AxesSubplot at 0x1a20cf1cd0>"
      ]
     },
     "execution_count": 20,
     "metadata": {},
     "output_type": "execute_result"
    },
    {
     "data": {
      "image/png": "[encoded data removed]",
      "text/plain": [
       "<Figure size 864x576 with 1 Axes>"
      ]
     },
     "metadata": {},
     "output_type": "display_data"
    }
   ],
   "source": [
    "plt.figure(figsize=(12,8))\n",
    "\n",
    "sns.barplot(x='Quarter', y='Total_acv_mean', data=df_quarter_summary_mean, color='g')"
   ]
  },
  {
   "cell_type": "code",
   "execution_count": null,
   "metadata": {},
   "outputs": [],
   "source": []
  },
  {
   "cell_type": "markdown",
   "metadata": {},
   "source": [
    "## Function for if value has already occurred in Data"
   ]
  },
  {
   "cell_type": "code",
   "execution_count": 21,
   "metadata": {},
   "outputs": [],
   "source": [
    "def new_or_renewal(index, cols):\n",
    "    val = cols[index]\n",
    "    company = cols[:index]\n",
    "    count = 0\n",
    "    \n",
    "    if val in company:\n",
    "        return 1\n",
    "    return 0\n",
    "\n",
    "    \n",
    "    \n",
    "    "
   ]
  },
  {
   "cell_type": "markdown",
   "metadata": {},
   "source": [
    "## Splitting Data set into each respective product"
   ]
  },
  {
   "cell_type": "code",
   "execution_count": 22,
   "metadata": {},
   "outputs": [],
   "source": [
    "df_TKG = df_final[df_final['TKG_count'] > 0][['Company','Quarter', 'txid', 'TKG_acv','TKG_count']]\n",
    "df_TKG.set_index('Company', inplace=True)\n",
    "df_TKG.reset_index(inplace=True)\n",
    "\n",
    "df_Data = df_final[df_final['Data_count'] > 0][['Company','Quarter', 'txid', 'Data_acv','Data_count']]\n",
    "df_Data.set_index('Company', inplace=True)\n",
    "df_Data.reset_index(inplace=True)\n",
    "\n",
    "df_TAS = df_final[df_final['TAS_count'] > 0][['Company','Quarter', 'txid', 'TAS_acv','TAS_count']]\n",
    "df_TAS.set_index('Company', inplace=True)\n",
    "df_TAS.reset_index(inplace=True)\n"
   ]
  },
  {
   "cell_type": "markdown",
   "metadata": {},
   "source": [
    "## Applying Renewal function against each Data set to determine if customer bought each product before\n",
    "\n",
    "## Reason: Doesn't make sense to have Renewals against different product lines. Should count renewals for particular product only if that product was purchased before"
   ]
  },
  {
   "cell_type": "code",
   "execution_count": 23,
   "metadata": {},
   "outputs": [],
   "source": [
    "df_TKG['Existing_Renewal'] = df_TKG['txid'].apply(lambda x: new_or_renewal(df_TKG[df_TKG['txid'] == x].index.values.astype(int)[0], list(df_TKG['Company'])))\n",
    "\n",
    "df_Data['Existing_Renewal'] = df_Data['txid'].apply(lambda x: new_or_renewal(df_Data[df_Data['txid'] == x].index.values.astype(int)[0], list(df_Data['Company'])))\n",
    "\n",
    "df_TAS['Existing_Renewal']=df_TAS['txid'].apply(lambda x: new_or_renewal(df_TAS[df_TAS['txid'] == x].index.values.astype(int)[0], list(df_TAS['Company'])))\n",
    "\n"
   ]
  },
  {
   "cell_type": "code",
   "execution_count": 24,
   "metadata": {},
   "outputs": [
    {
     "data": {
      "text/html": [
       "<div>\n",
       "<style scoped>\n",
       "    .dataframe tbody tr th:only-of-type {\n",
       "        vertical-align: middle;\n",
       "    }\n",
       "\n",
       "    .dataframe tbody tr th {\n",
       "        vertical-align: top;\n",
       "    }\n",
       "\n",
       "    .dataframe thead th {\n",
       "        text-align: right;\n",
       "    }\n",
       "</style>\n",
       "<table border=\"1\" class=\"dataframe\">\n",
       "  <thead>\n",
       "    <tr style=\"text-align: right;\">\n",
       "      <th></th>\n",
       "      <th>Company</th>\n",
       "      <th>Quarter</th>\n",
       "      <th>txid</th>\n",
       "      <th>TKG_acv</th>\n",
       "      <th>TKG_count</th>\n",
       "      <th>Existing_Renewal</th>\n",
       "    </tr>\n",
       "  </thead>\n",
       "  <tbody>\n",
       "    <tr>\n",
       "      <th>0</th>\n",
       "      <td>Alcoa Inc.</td>\n",
       "      <td>2018-Q4</td>\n",
       "      <td>Alcoa Inc.2018-Q4</td>\n",
       "      <td>424003.0</td>\n",
       "      <td>1</td>\n",
       "      <td>0</td>\n",
       "    </tr>\n",
       "    <tr>\n",
       "      <th>1</th>\n",
       "      <td>Apartment Investment and Management Company</td>\n",
       "      <td>2018-Q4</td>\n",
       "      <td>Apartment Investment and Management Company201...</td>\n",
       "      <td>60457.0</td>\n",
       "      <td>1</td>\n",
       "      <td>0</td>\n",
       "    </tr>\n",
       "    <tr>\n",
       "      <th>2</th>\n",
       "      <td>Ciena Corp.</td>\n",
       "      <td>2018-Q4</td>\n",
       "      <td>Ciena Corp.2018-Q4</td>\n",
       "      <td>500000.0</td>\n",
       "      <td>1</td>\n",
       "      <td>0</td>\n",
       "    </tr>\n",
       "    <tr>\n",
       "      <th>3</th>\n",
       "      <td>Cigna Corp</td>\n",
       "      <td>2018-Q4</td>\n",
       "      <td>Cigna Corp2018-Q4</td>\n",
       "      <td>93758.0</td>\n",
       "      <td>1</td>\n",
       "      <td>0</td>\n",
       "    </tr>\n",
       "    <tr>\n",
       "      <th>4</th>\n",
       "      <td>Cincinnati Financial Corp.</td>\n",
       "      <td>2018-Q4</td>\n",
       "      <td>Cincinnati Financial Corp.2018-Q4</td>\n",
       "      <td>37500.0</td>\n",
       "      <td>1</td>\n",
       "      <td>0</td>\n",
       "    </tr>\n",
       "    <tr>\n",
       "      <th>...</th>\n",
       "      <td>...</td>\n",
       "      <td>...</td>\n",
       "      <td>...</td>\n",
       "      <td>...</td>\n",
       "      <td>...</td>\n",
       "      <td>...</td>\n",
       "    </tr>\n",
       "    <tr>\n",
       "      <th>71</th>\n",
       "      <td>Harris Corp.</td>\n",
       "      <td>2021-Q1</td>\n",
       "      <td>Harris Corp.2021-Q1</td>\n",
       "      <td>726139.0</td>\n",
       "      <td>1</td>\n",
       "      <td>0</td>\n",
       "    </tr>\n",
       "    <tr>\n",
       "      <th>72</th>\n",
       "      <td>Owens Corning</td>\n",
       "      <td>2021-Q1</td>\n",
       "      <td>Owens Corning2021-Q1</td>\n",
       "      <td>164384.0</td>\n",
       "      <td>1</td>\n",
       "      <td>1</td>\n",
       "    </tr>\n",
       "    <tr>\n",
       "      <th>73</th>\n",
       "      <td>Owens-Illinois Inc</td>\n",
       "      <td>2021-Q1</td>\n",
       "      <td>Owens-Illinois Inc2021-Q1</td>\n",
       "      <td>722443.0</td>\n",
       "      <td>1</td>\n",
       "      <td>1</td>\n",
       "    </tr>\n",
       "    <tr>\n",
       "      <th>74</th>\n",
       "      <td>Packaging Corp. of America</td>\n",
       "      <td>2021-Q1</td>\n",
       "      <td>Packaging Corp. of America2021-Q1</td>\n",
       "      <td>577248.0</td>\n",
       "      <td>1</td>\n",
       "      <td>1</td>\n",
       "    </tr>\n",
       "    <tr>\n",
       "      <th>75</th>\n",
       "      <td>Pactiv Corp</td>\n",
       "      <td>2021-Q1</td>\n",
       "      <td>Pactiv Corp2021-Q1</td>\n",
       "      <td>135715.0</td>\n",
       "      <td>1</td>\n",
       "      <td>1</td>\n",
       "    </tr>\n",
       "  </tbody>\n",
       "</table>\n",
       "<p>76 rows × 6 columns</p>\n",
       "</div>"
      ],
      "text/plain": [
       "                                        Company  Quarter  \\\n",
       "0                                    Alcoa Inc.  2018-Q4   \n",
       "1   Apartment Investment and Management Company  2018-Q4   \n",
       "2                                   Ciena Corp.  2018-Q4   \n",
       "3                                    Cigna Corp  2018-Q4   \n",
       "4                    Cincinnati Financial Corp.  2018-Q4   \n",
       "..                                          ...      ...   \n",
       "71                                 Harris Corp.  2021-Q1   \n",
       "72                                Owens Corning  2021-Q1   \n",
       "73                           Owens-Illinois Inc  2021-Q1   \n",
       "74                   Packaging Corp. of America  2021-Q1   \n",
       "75                                  Pactiv Corp  2021-Q1   \n",
       "\n",
       "                                                 txid   TKG_acv  TKG_count  \\\n",
       "0                                   Alcoa Inc.2018-Q4  424003.0          1   \n",
       "1   Apartment Investment and Management Company201...   60457.0          1   \n",
       "2                                  Ciena Corp.2018-Q4  500000.0          1   \n",
       "3                                   Cigna Corp2018-Q4   93758.0          1   \n",
       "4                   Cincinnati Financial Corp.2018-Q4   37500.0          1   \n",
       "..                                                ...       ...        ...   \n",
       "71                                Harris Corp.2021-Q1  726139.0          1   \n",
       "72                               Owens Corning2021-Q1  164384.0          1   \n",
       "73                          Owens-Illinois Inc2021-Q1  722443.0          1   \n",
       "74                  Packaging Corp. of America2021-Q1  577248.0          1   \n",
       "75                                 Pactiv Corp2021-Q1  135715.0          1   \n",
       "\n",
       "    Existing_Renewal  \n",
       "0                  0  \n",
       "1                  0  \n",
       "2                  0  \n",
       "3                  0  \n",
       "4                  0  \n",
       "..               ...  \n",
       "71                 0  \n",
       "72                 1  \n",
       "73                 1  \n",
       "74                 1  \n",
       "75                 1  \n",
       "\n",
       "[76 rows x 6 columns]"
      ]
     },
     "execution_count": 24,
     "metadata": {},
     "output_type": "execute_result"
    }
   ],
   "source": [
    "df_TKG"
   ]
  },
  {
   "cell_type": "markdown",
   "metadata": {},
   "source": [
    "## Merging the Data Frames back together\n",
    "\n",
    "## Note: More rows than original final data set because Data and TAS did not have separate data frames before"
   ]
  },
  {
   "cell_type": "code",
   "execution_count": 25,
   "metadata": {},
   "outputs": [
    {
     "data": {
      "text/html": [
       "<div>\n",
       "<style scoped>\n",
       "    .dataframe tbody tr th:only-of-type {\n",
       "        vertical-align: middle;\n",
       "    }\n",
       "\n",
       "    .dataframe tbody tr th {\n",
       "        vertical-align: top;\n",
       "    }\n",
       "\n",
       "    .dataframe thead th {\n",
       "        text-align: right;\n",
       "    }\n",
       "</style>\n",
       "<table border=\"1\" class=\"dataframe\">\n",
       "  <thead>\n",
       "    <tr style=\"text-align: right;\">\n",
       "      <th></th>\n",
       "      <th>Quarter</th>\n",
       "      <th>Company</th>\n",
       "      <th>txid</th>\n",
       "      <th>TKG_acv</th>\n",
       "      <th>TKG_count</th>\n",
       "      <th>Existing_Renewal</th>\n",
       "      <th>Data_acv</th>\n",
       "      <th>Data_count</th>\n",
       "      <th>TAS_acv</th>\n",
       "      <th>TAS_count</th>\n",
       "    </tr>\n",
       "  </thead>\n",
       "  <tbody>\n",
       "    <tr>\n",
       "      <th>0</th>\n",
       "      <td>2018-Q4</td>\n",
       "      <td>Alcoa Inc.</td>\n",
       "      <td>Alcoa Inc.2018-Q4</td>\n",
       "      <td>424003.0</td>\n",
       "      <td>1.0</td>\n",
       "      <td>0</td>\n",
       "      <td>0.0</td>\n",
       "      <td>0.0</td>\n",
       "      <td>0.0</td>\n",
       "      <td>0.0</td>\n",
       "    </tr>\n",
       "    <tr>\n",
       "      <th>1</th>\n",
       "      <td>2018-Q4</td>\n",
       "      <td>Apartment Investment and Management Company</td>\n",
       "      <td>Apartment Investment and Management Company201...</td>\n",
       "      <td>60457.0</td>\n",
       "      <td>1.0</td>\n",
       "      <td>0</td>\n",
       "      <td>0.0</td>\n",
       "      <td>0.0</td>\n",
       "      <td>0.0</td>\n",
       "      <td>0.0</td>\n",
       "    </tr>\n",
       "    <tr>\n",
       "      <th>2</th>\n",
       "      <td>2018-Q4</td>\n",
       "      <td>Ciena Corp.</td>\n",
       "      <td>Ciena Corp.2018-Q4</td>\n",
       "      <td>500000.0</td>\n",
       "      <td>1.0</td>\n",
       "      <td>0</td>\n",
       "      <td>0.0</td>\n",
       "      <td>0.0</td>\n",
       "      <td>0.0</td>\n",
       "      <td>0.0</td>\n",
       "    </tr>\n",
       "    <tr>\n",
       "      <th>3</th>\n",
       "      <td>2018-Q4</td>\n",
       "      <td>Cigna Corp</td>\n",
       "      <td>Cigna Corp2018-Q4</td>\n",
       "      <td>93758.0</td>\n",
       "      <td>1.0</td>\n",
       "      <td>0</td>\n",
       "      <td>0.0</td>\n",
       "      <td>0.0</td>\n",
       "      <td>0.0</td>\n",
       "      <td>0.0</td>\n",
       "    </tr>\n",
       "    <tr>\n",
       "      <th>4</th>\n",
       "      <td>2018-Q4</td>\n",
       "      <td>Cincinnati Financial Corp.</td>\n",
       "      <td>Cincinnati Financial Corp.2018-Q4</td>\n",
       "      <td>37500.0</td>\n",
       "      <td>1.0</td>\n",
       "      <td>0</td>\n",
       "      <td>0.0</td>\n",
       "      <td>0.0</td>\n",
       "      <td>0.0</td>\n",
       "      <td>0.0</td>\n",
       "    </tr>\n",
       "    <tr>\n",
       "      <th>...</th>\n",
       "      <td>...</td>\n",
       "      <td>...</td>\n",
       "      <td>...</td>\n",
       "      <td>...</td>\n",
       "      <td>...</td>\n",
       "      <td>...</td>\n",
       "      <td>...</td>\n",
       "      <td>...</td>\n",
       "      <td>...</td>\n",
       "      <td>...</td>\n",
       "    </tr>\n",
       "    <tr>\n",
       "      <th>327</th>\n",
       "      <td>2021-Q1</td>\n",
       "      <td>Hewlett-Packard Company</td>\n",
       "      <td>Hewlett-Packard Company2021-Q1</td>\n",
       "      <td>0.0</td>\n",
       "      <td>0.0</td>\n",
       "      <td>0</td>\n",
       "      <td>0.0</td>\n",
       "      <td>0.0</td>\n",
       "      <td>1877250.0</td>\n",
       "      <td>1.0</td>\n",
       "    </tr>\n",
       "    <tr>\n",
       "      <th>328</th>\n",
       "      <td>2021-Q1</td>\n",
       "      <td>Hibernia Corp.</td>\n",
       "      <td>Hibernia Corp.2021-Q1</td>\n",
       "      <td>0.0</td>\n",
       "      <td>0.0</td>\n",
       "      <td>0</td>\n",
       "      <td>0.0</td>\n",
       "      <td>0.0</td>\n",
       "      <td>176940.0</td>\n",
       "      <td>1.0</td>\n",
       "    </tr>\n",
       "    <tr>\n",
       "      <th>329</th>\n",
       "      <td>2021-Q1</td>\n",
       "      <td>Maytag Corporation</td>\n",
       "      <td>Maytag Corporation2021-Q1</td>\n",
       "      <td>0.0</td>\n",
       "      <td>0.0</td>\n",
       "      <td>0</td>\n",
       "      <td>0.0</td>\n",
       "      <td>0.0</td>\n",
       "      <td>74170.0</td>\n",
       "      <td>1.0</td>\n",
       "    </tr>\n",
       "    <tr>\n",
       "      <th>330</th>\n",
       "      <td>2021-Q1</td>\n",
       "      <td>MBNA Corporation</td>\n",
       "      <td>MBNA Corporation2021-Q1</td>\n",
       "      <td>0.0</td>\n",
       "      <td>0.0</td>\n",
       "      <td>0</td>\n",
       "      <td>0.0</td>\n",
       "      <td>0.0</td>\n",
       "      <td>629989.0</td>\n",
       "      <td>1.0</td>\n",
       "    </tr>\n",
       "    <tr>\n",
       "      <th>331</th>\n",
       "      <td>2021-Q1</td>\n",
       "      <td>First Data Corp.</td>\n",
       "      <td>First Data Corp.2021-Q1</td>\n",
       "      <td>0.0</td>\n",
       "      <td>0.0</td>\n",
       "      <td>1</td>\n",
       "      <td>0.0</td>\n",
       "      <td>0.0</td>\n",
       "      <td>270550.0</td>\n",
       "      <td>1.0</td>\n",
       "    </tr>\n",
       "  </tbody>\n",
       "</table>\n",
       "<p>332 rows × 10 columns</p>\n",
       "</div>"
      ],
      "text/plain": [
       "     Quarter                                      Company  \\\n",
       "0    2018-Q4                                   Alcoa Inc.   \n",
       "1    2018-Q4  Apartment Investment and Management Company   \n",
       "2    2018-Q4                                  Ciena Corp.   \n",
       "3    2018-Q4                                   Cigna Corp   \n",
       "4    2018-Q4                   Cincinnati Financial Corp.   \n",
       "..       ...                                          ...   \n",
       "327  2021-Q1                      Hewlett-Packard Company   \n",
       "328  2021-Q1                               Hibernia Corp.   \n",
       "329  2021-Q1                           Maytag Corporation   \n",
       "330  2021-Q1                             MBNA Corporation   \n",
       "331  2021-Q1                             First Data Corp.   \n",
       "\n",
       "                                                  txid   TKG_acv  TKG_count  \\\n",
       "0                                    Alcoa Inc.2018-Q4  424003.0        1.0   \n",
       "1    Apartment Investment and Management Company201...   60457.0        1.0   \n",
       "2                                   Ciena Corp.2018-Q4  500000.0        1.0   \n",
       "3                                    Cigna Corp2018-Q4   93758.0        1.0   \n",
       "4                    Cincinnati Financial Corp.2018-Q4   37500.0        1.0   \n",
       "..                                                 ...       ...        ...   \n",
       "327                     Hewlett-Packard Company2021-Q1       0.0        0.0   \n",
       "328                              Hibernia Corp.2021-Q1       0.0        0.0   \n",
       "329                          Maytag Corporation2021-Q1       0.0        0.0   \n",
       "330                            MBNA Corporation2021-Q1       0.0        0.0   \n",
       "331                            First Data Corp.2021-Q1       0.0        0.0   \n",
       "\n",
       "     Existing_Renewal  Data_acv  Data_count    TAS_acv  TAS_count  \n",
       "0                   0       0.0         0.0        0.0        0.0  \n",
       "1                   0       0.0         0.0        0.0        0.0  \n",
       "2                   0       0.0         0.0        0.0        0.0  \n",
       "3                   0       0.0         0.0        0.0        0.0  \n",
       "4                   0       0.0         0.0        0.0        0.0  \n",
       "..                ...       ...         ...        ...        ...  \n",
       "327                 0       0.0         0.0  1877250.0        1.0  \n",
       "328                 0       0.0         0.0   176940.0        1.0  \n",
       "329                 0       0.0         0.0    74170.0        1.0  \n",
       "330                 0       0.0         0.0   629989.0        1.0  \n",
       "331                 1       0.0         0.0   270550.0        1.0  \n",
       "\n",
       "[332 rows x 10 columns]"
      ]
     },
     "execution_count": 25,
     "metadata": {},
     "output_type": "execute_result"
    }
   ],
   "source": [
    "df_merged = pd.concat([df_TKG, df_Data, df_TAS])\n",
    "df_merged.set_index('Quarter', inplace=True)\n",
    "df_merged.reset_index(inplace=True)\n",
    "\n",
    "df_merged.fillna(value=0, inplace=True)\n",
    "df_merged"
   ]
  },
  {
   "cell_type": "markdown",
   "metadata": {},
   "source": [
    "## Check against df_merged total sum against df_final"
   ]
  },
  {
   "cell_type": "code",
   "execution_count": 26,
   "metadata": {},
   "outputs": [
    {
     "name": "stdout",
     "output_type": "stream",
     "text": [
      "df_merged: 37976491.0\n",
      "df_final: 37976491.0\n"
     ]
    }
   ],
   "source": [
    "print(f\"df_merged: {sum(df_merged['Data_acv'])}\")\n",
    "print(f\"df_final: {sum(df_final['Data_acv'])}\")\n"
   ]
  },
  {
   "cell_type": "markdown",
   "metadata": {},
   "source": [
    "## Isolating New vs Renewal Customers within each product line"
   ]
  },
  {
   "cell_type": "code",
   "execution_count": 27,
   "metadata": {},
   "outputs": [],
   "source": [
    "new_TKG = df_TKG[df_TKG['Existing_Renewal'] == 0]\n",
    "quarter_new_TKG = new_TKG.groupby('Quarter').sum()\n",
    "quarter_new_TKG.reset_index(inplace=True)\n",
    "\n",
    "renewed_TKG = df_TKG[df_TKG['Existing_Renewal'] > 0]\n",
    "quarter_renewed_TKG = renewed_TKG.groupby('Quarter').sum()\n",
    "quarter_renewed_TKG.reset_index(inplace=True)\n",
    "\n",
    "###\n",
    "\n",
    "new_Data = df_Data[df_Data['Existing_Renewal'] == 0]\n",
    "quarter_new_Data = new_Data.groupby('Quarter').sum()\n",
    "quarter_new_Data.reset_index(inplace=True)\n",
    "\n",
    "renewed_Data = df_Data[df_Data['Existing_Renewal'] > 0]\n",
    "quarter_renewed_Data = renewed_Data.groupby('Quarter').sum()\n",
    "quarter_renewed_Data.reset_index(inplace=True)\n",
    "\n",
    "\n",
    "###\n",
    "\n",
    "new_TAS = df_TAS[df_TAS['Existing_Renewal'] == 0]\n",
    "quarter_new_TAS = new_TAS.groupby('Quarter').sum()\n",
    "quarter_new_TAS.reset_index(inplace=True)\n",
    "\n",
    "renewed_TAS = df_TAS[df_TAS['Existing_Renewal'] > 0]\n",
    "quarter_renewed_TAS = renewed_TAS.groupby('Quarter').sum()\n",
    "quarter_renewed_TAS.reset_index(inplace=True)\n"
   ]
  },
  {
   "cell_type": "code",
   "execution_count": 28,
   "metadata": {},
   "outputs": [],
   "source": [
    "quarter_new_TKG\n",
    "quarter_new_TKG.rename(columns={\"TKG_acv\": \"TKG_new_acv\", \"TKG_count\": \"TKG_new_count\"}, inplace=True)\n",
    "\n",
    "quarter_renewed_TKG\n",
    "quarter_renewed_TKG.rename(columns={\"TKG_acv\": \"TKG_renewed_acv\", \"TKG_count\": \"TKG_renewed_count\"}, inplace=True)\n",
    "\n",
    "TKG_summary = pd.concat([quarter_new_TKG,quarter_renewed_TKG])\n",
    "TKG_summary.fillna(value=0, inplace=True)\n",
    "TKG_summary = TKG_summary.groupby('Quarter').sum()\n",
    "TKG_summary.reset_index(inplace=True)\n",
    "\n",
    "###\n",
    "\n",
    "quarter_new_Data\n",
    "quarter_new_Data.rename(columns={\"Data_acv\": \"Data_new_acv\", \"Data_count\": \"Data_new_count\"}, inplace=True)\n",
    "\n",
    "quarter_renewed_Data\n",
    "quarter_renewed_Data.rename(columns={\"Data_acv\": \"Data_renewed_acv\", \"Data_count\": \"Data_renewed_count\"}, inplace=True)\n",
    "\n",
    "Data_summary = pd.concat([quarter_new_Data,quarter_renewed_Data])\n",
    "Data_summary.fillna(value=0, inplace=True)\n",
    "Data_summary = Data_summary.groupby('Quarter').sum()\n",
    "Data_summary.reset_index(inplace=True)\n",
    "\n",
    "###\n",
    "\n",
    "quarter_new_TAS\n",
    "quarter_new_TAS.rename(columns={\"TAS_acv\": \"TAS_new_acv\", \"TAS_count\": \"TAS_new_count\"}, inplace=True)\n",
    "\n",
    "quarter_renewed_TAS\n",
    "quarter_renewed_TAS.rename(columns={\"TAS_acv\": \"TAS_renewed_acv\", \"TAS_count\": \"TAS_renewed_count\"}, inplace=True)\n",
    "\n",
    "TAS_summary = pd.concat([quarter_new_TAS,quarter_renewed_TAS])\n",
    "TAS_summary.fillna(value=0, inplace=True)\n",
    "TAS_summary = TAS_summary.groupby('Quarter').sum()\n",
    "TAS_summary.reset_index(inplace=True)\n"
   ]
  },
  {
   "cell_type": "code",
   "execution_count": null,
   "metadata": {},
   "outputs": [],
   "source": []
  },
  {
   "cell_type": "markdown",
   "metadata": {},
   "source": [
    "## TKG New vs Renewal Values by Quarater"
   ]
  },
  {
   "cell_type": "code",
   "execution_count": 29,
   "metadata": {},
   "outputs": [
    {
     "data": {
      "text/plain": [
       "<matplotlib.legend.Legend at 0x1a2000b710>"
      ]
     },
     "execution_count": 29,
     "metadata": {},
     "output_type": "execute_result"
    },
    {
     "data": {
      "text/plain": [
       "<Figure size 864x576 with 0 Axes>"
      ]
     },
     "metadata": {},
     "output_type": "display_data"
    },
    {
     "data": {
      "image/png": "[encoded data removed]",
      "text/plain": [
       "<Figure size 864x576 with 1 Axes>"
      ]
     },
     "metadata": {},
     "output_type": "display_data"
    }
   ],
   "source": [
    "plt.figure(figsize=(12,8))\n",
    "\n",
    "quarter = list(TKG_summary['Quarter'])\n",
    "\n",
    "new_TKG_acv = list(TKG_summary['TKG_new_acv'])\n",
    "\n",
    "renewed_TKG_acv = list(TKG_summary['TKG_renewed_acv'])\n",
    "\n",
    "New = pd.Series(new_TKG_acv, index=quarter)\n",
    "Renewed = pd.Series(renewed_TKG_acv, index=quarter)\n",
    "\n",
    "df = pd.DataFrame({\"New\":New,\"Renewed\":Renewed})\n",
    "ax = df.plot.bar(color=['navy','green'], figsize=(12,8))\n",
    "ax.set_xlabel(\"Quarter\")\n",
    "ax.set_ylabel(\"ACV Value\")\n",
    "ax.set_title('TKG ACV Values by New vs Renewal')\n",
    "\n",
    "plt.legend(bbox_to_anchor=(1.05, 1), loc=2, borderaxespad=0.)"
   ]
  },
  {
   "cell_type": "markdown",
   "metadata": {},
   "source": [
    "## Data New vs Renewals by Quarter"
   ]
  },
  {
   "cell_type": "code",
   "execution_count": 30,
   "metadata": {},
   "outputs": [
    {
     "data": {
      "text/plain": [
       "<matplotlib.legend.Legend at 0x1a20f35710>"
      ]
     },
     "execution_count": 30,
     "metadata": {},
     "output_type": "execute_result"
    },
    {
     "data": {
      "text/plain": [
       "<Figure size 864x576 with 0 Axes>"
      ]
     },
     "metadata": {},
     "output_type": "display_data"
    },
    {
     "data": {
      "image/png": "[encoded data removed]",
      "text/plain": [
       "<Figure size 864x576 with 1 Axes>"
      ]
     },
     "metadata": {},
     "output_type": "display_data"
    }
   ],
   "source": [
    "plt.figure(figsize=(12,8))\n",
    "\n",
    "quarter = list(Data_summary['Quarter'])\n",
    "\n",
    "new_DATA_acv = list(Data_summary['Data_new_acv'])\n",
    "\n",
    "renewed_DATA_acv = list(Data_summary['Data_renewed_acv'])\n",
    "\n",
    "New = pd.Series(new_DATA_acv, index=quarter)\n",
    "Renewed = pd.Series(renewed_DATA_acv, index=quarter)\n",
    "\n",
    "df = pd.DataFrame({\"New\":New,\"Renewed\":Renewed})\n",
    "ax = df.plot.bar(color=['navy','green'], figsize=(12,8))\n",
    "ax.set_xlabel(\"Quarter\")\n",
    "ax.set_ylabel(\"ACV Value\")\n",
    "ax.set_title(' Data ACV Values by New vs Renewal')\n",
    "\n",
    "plt.legend(bbox_to_anchor=(1.05, 1), loc=2, borderaxespad=0.)\n"
   ]
  },
  {
   "cell_type": "markdown",
   "metadata": {},
   "source": [
    "## TAS New vs Renewal Values by Quarater"
   ]
  },
  {
   "cell_type": "code",
   "execution_count": 31,
   "metadata": {},
   "outputs": [
    {
     "data": {
      "text/plain": [
       "<matplotlib.legend.Legend at 0x1a2139f090>"
      ]
     },
     "execution_count": 31,
     "metadata": {},
     "output_type": "execute_result"
    },
    {
     "data": {
      "text/plain": [
       "<Figure size 864x576 with 0 Axes>"
      ]
     },
     "metadata": {},
     "output_type": "display_data"
    },
    {
     "data": {
      "image/png": "[encoded data removed]",
      "text/plain": [
       "<Figure size 864x576 with 1 Axes>"
      ]
     },
     "metadata": {},
     "output_type": "display_data"
    }
   ],
   "source": [
    "plt.figure(figsize=(12,8))\n",
    "\n",
    "quarter = list(TAS_summary['Quarter'])\n",
    "\n",
    "new_TAS_acv = list(TAS_summary['TAS_new_acv'])\n",
    "\n",
    "renewed_TAS_acv = list(TAS_summary['TAS_renewed_acv'])\n",
    "\n",
    "New = pd.Series(new_TAS_acv, index=quarter)\n",
    "Renewed = pd.Series(renewed_TAS_acv, index=quarter)\n",
    "\n",
    "df = pd.DataFrame({\"New\":New,\"Renewed\":Renewed})\n",
    "ax = df.plot.bar(color=['navy','green'], figsize=(12,8))\n",
    "ax.set_xlabel(\"Quarter\")\n",
    "ax.set_ylabel(\"ACV Value\")\n",
    "ax.set_title('TAS ACV Values by New vs Renewal')\n",
    "\n",
    "plt.legend(bbox_to_anchor=(1.05, 1), loc=2, borderaxespad=0.)\n"
   ]
  },
  {
   "cell_type": "code",
   "execution_count": 32,
   "metadata": {},
   "outputs": [
    {
     "data": {
      "text/plain": [
       "37976491.0"
      ]
     },
     "execution_count": 32,
     "metadata": {},
     "output_type": "execute_result"
    }
   ],
   "source": [
    "sum(df_Data['Data_acv'])"
   ]
  },
  {
   "cell_type": "code",
   "execution_count": 33,
   "metadata": {},
   "outputs": [
    {
     "data": {
      "text/plain": [
       "129420545.0"
      ]
     },
     "execution_count": 33,
     "metadata": {},
     "output_type": "execute_result"
    }
   ],
   "source": [
    "sum(df_TAS['TAS_acv'])"
   ]
  },
  {
   "cell_type": "code",
   "execution_count": 34,
   "metadata": {},
   "outputs": [
    {
     "data": {
      "text/plain": [
       "64516526.0"
      ]
     },
     "execution_count": 34,
     "metadata": {},
     "output_type": "execute_result"
    }
   ],
   "source": [
    "sum(df_TKG['TKG_acv'])"
   ]
  },
  {
   "cell_type": "code",
   "execution_count": 35,
   "metadata": {},
   "outputs": [
    {
     "data": {
      "text/plain": [
       "231913562.0"
      ]
     },
     "execution_count": 35,
     "metadata": {},
     "output_type": "execute_result"
    }
   ],
   "source": [
    "sum(df_merged['TKG_acv']) + sum(df_merged['Data_acv']) + sum(df_merged['TAS_acv'])"
   ]
  },
  {
   "cell_type": "code",
   "execution_count": null,
   "metadata": {},
   "outputs": [],
   "source": []
  }
 ],
 "metadata": {
  "kernelspec": {
   "display_name": "Python 3",
   "language": "python",
   "name": "python3"
  },
  "language_info": {
   "codemirror_mode": {
    "name": "ipython",
    "version": 3
   },
   "file_extension": ".py",
   "mimetype": "text/x-python",
   "name": "python",
   "nbconvert_exporter": "python",
   "pygments_lexer": "ipython3",
   "version": "3.7.7"
  }
 },
 "nbformat": 4,
 "nbformat_minor": 4
}
